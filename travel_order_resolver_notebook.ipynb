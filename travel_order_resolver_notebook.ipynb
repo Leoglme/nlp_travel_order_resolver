{
 "cells": [
  {
   "cell_type": "markdown",
   "id": "f46425e2",
   "metadata": {},
   "source": [
    "\n",
    "# Travel Order Resolver\n",
    "\n",
    "## Introduction\n",
    "\n",
    "Ce projet vise � d�velopper un mod�le NLP pour r�soudre les ordres de voyage. Nous allons utiliser des mod�les bas�s sur le langage naturel, tels que **CamemBERT**, pour extraire les entit�s des ordres de voyage. Ces entit�s incluent les villes de d�part et d'arriv�e.\n",
    "\n",
    "Les mod�les seront �valu�s en fonction de la pr�cision de l'extraction des entit�s, du score F1, et d'autres m�triques pertinentes.\n",
    "\n",
    "<style>\n",
    "h1 {color: navy;}\n",
    "h2 {color: navy;}\n",
    "</style>\n"
   ]
  },
  {
   "cell_type": "markdown",
   "id": "ca79fa53",
   "metadata": {},
   "source": [
    "\n",
    "## Structure du Dataset\n",
    "\n",
    "Le dataset est compos� de phrases contenant des ordres de voyage. Chaque phrase contient :\n",
    "- Le texte de la phrase\n",
    "- La ville de d�part\n",
    "- La ville d'arriv�e\n",
    "- Un label indiquant si la phrase est valide ou non\n",
    "\n",
    "Ces donn�es sont utilis�es pour entra�ner et �valuer le mod�le de reconnaissance d'entit�s nomm�es (NER).\n"
   ]
  },
  {
   "cell_type": "markdown",
   "id": "24425756",
   "metadata": {},
   "source": [
    "\n",
    "## Pr�paration des Donn�es avec DataProcessor\n",
    "\n",
    "La classe **DataProcessor** est utilis�e pour pr�parer le dataset. Elle permet de charger et de filtrer les phrases, d'extraire les villes de d�part et d'arriv�e, et de formater les donn�es pour l'entra�nement.\n",
    "\n",
    "```python\n",
    "class DataProcessor:\n",
    "    def load_dataset(self, filepath):\n",
    "        # Charger les donn�es � partir du fichier CSV\n",
    "        pass\n",
    "\n",
    "    def prepare_data(self, data):\n",
    "        # Pr�paration et tokenization des donn�es\n",
    "        pass\n",
    "```\n"
   ]
  },
  {
   "cell_type": "markdown",
   "id": "9385f6e6",
   "metadata": {},
   "source": [
    "\n",
    "## Mod�le CamemBERT pour la reconnaissance d'entit�s nomm�es (NER)\n",
    "\n",
    "Le mod�le **CamemBERT** est un mod�le de type transformateur pr�-entra�n� sur des t�ches de traitement de la langue fran�aise. Pour notre t�che, il est fine-tun� pour reconna�tre les entit�s nomm�es, en particulier les villes de d�part et d'arriv�e.\n",
    "\n",
    "### Construction du mod�le\n",
    "\n",
    "Le mod�le est bas� sur la biblioth�que `Transformers` de Hugging Face. Voici comment nous le configurons et l'entra�nons :\n",
    "\n",
    "```python\n",
    "from transformers import CamembertForTokenClassification, CamembertTokenizerFast, Trainer, TrainingArguments\n",
    "\n",
    "model = CamembertForTokenClassification.from_pretrained(\"camembert-base\", num_labels=3)\n",
    "tokenizer = CamembertTokenizerFast.from_pretrained(\"camembert-base\")\n",
    "\n",
    "# Arguments d'entra�nement\n",
    "training_args = TrainingArguments(\n",
    "    output_dir='./results',\n",
    "    evaluation_strategy=\"epoch\",\n",
    "    learning_rate=2e-5,\n",
    "    per_device_train_batch_size=16,\n",
    "    per_device_eval_batch_size=16,\n",
    "    num_train_epochs=3,\n",
    "    weight_decay=0.01,\n",
    "    logging_dir='./logs',\n",
    ")\n",
    "\n",
    "# Entra�nement\n",
    "trainer = Trainer(\n",
    "    model=model,\n",
    "    args=training_args,\n",
    "    train_dataset=train_dataset,\n",
    "    eval_dataset=eval_dataset,\n",
    "    tokenizer=tokenizer,\n",
    ")\n",
    "trainer.train()\n",
    "```\n"
   ]
  },
  {
   "cell_type": "markdown",
   "id": "6e353a08",
   "metadata": {},
   "source": [
    "\n",
    "## �valuation du Mod�le\n",
    "\n",
    "Le mod�le est �valu� en utilisant des m�triques telles que :\n",
    "- **Pr�cision** : Le pourcentage de pr�dictions correctes.\n",
    "- **Rappel** : La capacit� du mod�le � identifier toutes les entit�s pertinentes.\n",
    "- **Score F1** : La moyenne harmonique de la pr�cision et du rappel.\n",
    "\n",
    "Nous utilisons �galement une matrice de confusion pour analyser les faux positifs et les faux n�gatifs.\n",
    "\n",
    "```python\n",
    "from sklearn.metrics import classification_report, confusion_matrix\n",
    "\n",
    "y_true = [1, 0, 1]  # Exemples de labels r�els\n",
    "y_pred = [1, 0, 0]  # Exemples de pr�dictions du mod�le\n",
    "\n",
    "# Affichage du rapport de classification\n",
    "print(classification_report(y_true, y_pred, target_names=[\"O\", \"B-city\", \"I-city\"]))\n",
    "\n",
    "# Matrice de confusion\n",
    "cm = confusion_matrix(y_true, y_pred)\n",
    "print(cm)\n",
    "```\n"
   ]
  },
  {
   "cell_type": "markdown",
   "id": "70a44839",
   "metadata": {},
   "source": [
    "\n",
    "## R�sultats du Mod�le\n"
   ]
  },
  {
   "cell_type": "code",
   "execution_count": null,
   "id": "5bb7cc9f",
   "metadata": {},
   "outputs": [],
   "source": [
    "\n",
    "import json\n",
    "import matplotlib.pyplot as plt\n",
    "import numpy as np\n",
    "\n",
    "# Chargement des r�sultats du mod�le NER\n",
    "with open(\"ner_results.json\", \"r\") as file:\n",
    "    ner_results = json.load(file)\n",
    "\n",
    "# Affichage des r�sultats\n",
    "print(\"## Pr�cision: {}\".format(ner_results['precision']))\n",
    "print(\"## Rappel: {}\".format(ner_results['recall']))\n",
    "print(\"## Score F1: {}\".format(ner_results['f1']))\n"
   ]
  },
  {
   "cell_type": "markdown",
   "id": "a8943831",
   "metadata": {},
   "source": [
    "\n",
    "### Graphique des R�sultats\n"
   ]
  },
  {
   "cell_type": "code",
   "execution_count": null,
   "id": "90a0d6de",
   "metadata": {},
   "outputs": [],
   "source": [
    "\n",
    "import json\n",
    "import numpy as np\n",
    "import matplotlib.pyplot as plt\n",
    "from sklearn.metrics import ConfusionMatrixDisplay\n",
    "\n",
    "# Chargement des r�sultats\n",
    "with open(\"ner_results.json\", \"r\") as file:\n",
    "    ner_results = json.load(file)\n",
    "\n",
    "# Matrice de confusion\n",
    "cm = np.array(ner_results['confusion_matrix'])\n",
    "\n",
    "def plot_confusion_matrix(cm):\n",
    "    disp = ConfusionMatrixDisplay(confusion_matrix=cm, display_labels=['O', 'B-city', 'I-city'])\n",
    "    disp.plot(cmap=plt.cm.Blues)\n",
    "    plt.title('Matrice de Confusion')\n",
    "    plt.show()\n",
    "\n",
    "plot_confusion_matrix(cm)\n"
   ]
  },
  {
   "cell_type": "markdown",
   "id": "f64c0983",
   "metadata": {},
   "source": [
    "\n",
    "## Conclusion\n",
    "\n",
    "Le mod�le **CamemBERT** fine-tun� pour la reconnaissance d'entit�s nomm�es montre une bonne performance pour identifier les villes de d�part et d'arriv�e dans les ordres de voyage. Il peut encore �tre am�lior� en augmentant le volume de donn�es et en ajustant les hyperparam�tres.\n",
    "\n",
    "### Am�liorations futures\n",
    "- Augmenter la taille du dataset\n",
    "- Optimiser les hyperparam�tres pour une meilleure pr�cision\n",
    "- Utiliser des techniques d'augmentation de donn�es\n"
   ]
  }
 ],
 "metadata": {},
 "nbformat": 4,
 "nbformat_minor": 5
}
